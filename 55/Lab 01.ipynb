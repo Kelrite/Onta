{
  "cells": [
    {
      "cell_type": "code",
      "execution_count": null,
      "metadata": {
        "id": "Hhlv4S8gKq2j"
      },
      "outputs": [],
      "source": [
        "!pip install apache_beam[interactive] --quiet\n",
        "\n",
        "import apache_beam as beam\n",
        "\n",
        "import warnings\n",
        "\n",
        "warnings.filterwarnings(\"ignore\")"
      ]
    },
    {
      "cell_type": "code",
      "execution_count": 2,
      "metadata": {
        "id": "mGbsrgh8Kq2z",
        "outputId": "de552296-df41-470d-a2b4-790635d79f70",
        "colab": {
          "base_uri": "https://localhost:8080/",
          "height": 34
        }
      },
      "outputs": [
        {
          "output_type": "display_data",
          "data": {
            "application/javascript": [
              "\n",
              "        if (typeof window.interactive_beam_jquery == 'undefined') {\n",
              "          var jqueryScript = document.createElement('script');\n",
              "          jqueryScript.src = 'https://code.jquery.com/jquery-3.4.1.slim.min.js';\n",
              "          jqueryScript.type = 'text/javascript';\n",
              "          jqueryScript.onload = function() {\n",
              "            var datatableScript = document.createElement('script');\n",
              "            datatableScript.src = 'https://cdn.datatables.net/1.10.20/js/jquery.dataTables.min.js';\n",
              "            datatableScript.type = 'text/javascript';\n",
              "            datatableScript.onload = function() {\n",
              "              window.interactive_beam_jquery = jQuery.noConflict(true);\n",
              "              window.interactive_beam_jquery(document).ready(function($){\n",
              "                \n",
              "              });\n",
              "            }\n",
              "            document.head.appendChild(datatableScript);\n",
              "          };\n",
              "          document.head.appendChild(jqueryScript);\n",
              "        } else {\n",
              "          window.interactive_beam_jquery(document).ready(function($){\n",
              "            \n",
              "          });\n",
              "        }"
            ]
          },
          "metadata": {}
        },
        {
          "output_type": "stream",
          "name": "stdout",
          "text": [
            "[6, 11, 16, 21, 26, 31, 36, 41, 46, 51]\n"
          ]
        }
      ],
      "source": [
        "tester = lambda i : i * 5 + 1\n",
        "\n",
        "with beam.Pipeline() as pipeline:\n",
        "  runner = (\n",
        "    pipeline\n",
        "    | \"Create\" >> beam.Create([*range(1, 11)])\n",
        "    | \"Map\" >> beam.Map(tester)\n",
        "    | \"List\" >> beam.combiners.ToList()\n",
        "    | \"Out\" >> beam.Map(print)\n",
        "  )"
      ]
    },
    {
      "cell_type": "code",
      "source": [
        "with beam.Pipeline() as pipeline:\n",
        "  runner = (\n",
        "    pipeline\n",
        "    | \"Create\" >> beam.Create((\n",
        "        (\"toko\", 10),\n",
        "        (\"tiko\", 15),\n",
        "        (\"toko\", 40)\n",
        "    ))\n",
        "    | \"Map\" >> beam.CombinePerKey(sum)\n",
        "    | \"List\" >> beam.combiners.ToList()\n",
        "    | \"Out\" >> beam.Map(print)\n",
        "  )"
      ],
      "metadata": {
        "id": "jrzggWXiNlfQ",
        "outputId": "092e9add-6834-45a0-a75d-a9b41c3ebe67",
        "colab": {
          "base_uri": "https://localhost:8080/"
        }
      },
      "execution_count": 3,
      "outputs": [
        {
          "output_type": "stream",
          "name": "stdout",
          "text": [
            "[('toko', 50), ('tiko', 15)]\n"
          ]
        }
      ]
    }
  ],
  "metadata": {
    "language_info": {
      "name": "python"
    },
    "colab": {
      "provenance": []
    },
    "kernelspec": {
      "name": "python3",
      "display_name": "Python 3"
    }
  },
  "nbformat": 4,
  "nbformat_minor": 0
}