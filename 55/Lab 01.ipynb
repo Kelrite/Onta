{
 "cells": [
  {
   "cell_type": "code",
   "execution_count": null,
   "metadata": {},
   "outputs": [],
   "source": [
    "!pip install apache_beam[interactive] --quiet\n",
    "\n",
    "import apache_beam as beam"
   ]
  },
  {
   "cell_type": "code",
   "execution_count": null,
   "metadata": {},
   "outputs": [],
   "source": [
    "tester = lambda i : i * 5 + 1\n",
    "\n",
    "with beam.Pipeline as pipeline:\n",
    "  runner = (\n",
    "    pipeline\n",
    "    | \"Create\" >> beam.Create([*range(1, 11)])\n",
    "    | \"Map\" >> beam.Map(tester)\n",
    "    | \"Out\" >> beam.Map(print)\n",
    "  )"
   ]
  },
  {
   "cell_type": "code",
   "execution_count": null,
   "metadata": {},
   "outputs": [],
   "source": [
    "pipeline = beam.Pipeline()\n",
    "\n",
    "runner = (\n",
    "  pipeline\n",
    "  | \"Create\" >> beam.Create([*range(1, 11)])\n",
    "  | \"Map\" >> beam.Map(tester)\n",
    "  | \"Out\" >> beam.Map(print)\n",
    ")"
   ]
  }
 ],
 "metadata": {
  "language_info": {
   "name": "python"
  }
 },
 "nbformat": 4,
 "nbformat_minor": 2
}
