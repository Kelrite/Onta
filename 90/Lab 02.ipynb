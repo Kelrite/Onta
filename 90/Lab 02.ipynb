{
  "cells": [
    {
      "cell_type": "code",
      "execution_count": 1,
      "metadata": {
        "id": "ve09gevBPEOz"
      },
      "outputs": [],
      "source": [
        "import tensorflow as tf\n",
        "\n",
        "import numpy as np\n",
        "\n",
        "from tensorflow.keras import datasets, layers, models"
      ]
    },
    {
      "cell_type": "code",
      "source": [
        "(train_input, train_label), (test_input, test_label) = datasets.mnist.load_data()"
      ],
      "metadata": {
        "id": "Yxytv4BmPQRR"
      },
      "execution_count": null,
      "outputs": []
    },
    {
      "cell_type": "code",
      "source": [
        "train_input = train_input.reshape(60000, 28, 28, 1)\n",
        "\n",
        "test_input = test_input.reshape(10000, 28, 28, 1)"
      ],
      "metadata": {
        "id": "R-0bcmX8QOqG"
      },
      "execution_count": 3,
      "outputs": []
    },
    {
      "cell_type": "code",
      "execution_count": null,
      "metadata": {
        "id": "ZHLKW9DnPEO3"
      },
      "outputs": [],
      "source": [
        "model = models.Sequential([\n",
        "  layers.Flatten(input_shape=(28, 28, 1)),\n",
        "  layers.Dense(64, activation=\"relu\"),\n",
        "  layers.Dense(10, activation=\"softmax\")\n",
        "])\n",
        "\n",
        "model.compile(optimizer=\"adam\", loss=\"SparseCategoricalCrossentropy\", metrics=[\"accuracy\"])"
      ]
    },
    {
      "cell_type": "code",
      "execution_count": null,
      "metadata": {
        "id": "63eODauOPEO4"
      },
      "outputs": [],
      "source": [
        "plot = model.fit(train_input, train_label, epochs=5)"
      ]
    },
    {
      "cell_type": "code",
      "source": [
        "model.evaluate(train_input, train_label)"
      ],
      "metadata": {
        "id": "p77dnyqnQfBl",
        "outputId": "d624aafc-6238-44ff-ffe3-31113411148b",
        "colab": {
          "base_uri": "https://localhost:8080/"
        }
      },
      "execution_count": 6,
      "outputs": [
        {
          "output_type": "execute_result",
          "data": {
            "text/plain": [
              "[0.22255142033100128, 0.9399333596229553]"
            ]
          },
          "metadata": {},
          "execution_count": 6
        }
      ]
    },
    {
      "cell_type": "code",
      "source": [
        "model.evaluate(test_input, test_label)"
      ],
      "metadata": {
        "id": "Z75eoXtNQmEd",
        "outputId": "e6d76d4f-4ce2-4485-b549-7e093e110304",
        "colab": {
          "base_uri": "https://localhost:8080/"
        }
      },
      "execution_count": 7,
      "outputs": [
        {
          "output_type": "execute_result",
          "data": {
            "text/plain": [
              "[0.27326273918151855, 0.9337999820709229]"
            ]
          },
          "metadata": {},
          "execution_count": 7
        }
      ]
    }
  ],
  "metadata": {
    "language_info": {
      "name": "python"
    },
    "colab": {
      "provenance": []
    },
    "kernelspec": {
      "name": "python3",
      "display_name": "Python 3"
    }
  },
  "nbformat": 4,
  "nbformat_minor": 0
}