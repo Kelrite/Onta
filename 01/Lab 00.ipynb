{
  "cells": [
    {
      "cell_type": "code",
      "execution_count": null,
      "metadata": {
        "id": "M4I3sbj3tf5m"
      },
      "outputs": [],
      "source": [
        "!pip install google-cloud-bigquery --quiet\n",
        "\n",
        "!pip install google-cloud-aiplatform --quiet"
      ]
    },
    {
      "cell_type": "code",
      "execution_count": null,
      "metadata": {
        "id": "vmMRd0JVtv-P"
      },
      "outputs": [],
      "source": [
        "import os\n",
        "\n",
        "os.environ[\"Project\"] = \"null\"\n",
        "\n",
        "os.environ[\"Region\"] = \"null\""
      ]
    },
    {
      "cell_type": "code",
      "execution_count": null,
      "metadata": {
        "id": "jvbN6EsDuBjU"
      },
      "outputs": [],
      "source": [
        "os.environ[\"Cloudera\"] = \"null\"\n",
        "\n",
        "os.environ[\"TensorFlow\"] = \"2.6\"\n",
        "\n",
        "os.environ[\"Python\"] = \"3.7\""
      ]
    },
    {
      "cell_type": "code",
      "execution_count": null,
      "metadata": {
        "id": "hCx9UKBOuW03"
      },
      "outputs": [],
      "source": [
        "%%bash\n",
        "\n",
        "export project=$(gcloud config list project --format \"value(core.project)\")\n",
        "\n",
        "echo \"Your GCP Project : \"$project"
      ]
    },
    {
      "cell_type": "code",
      "execution_count": null,
      "metadata": {},
      "outputs": [],
      "source": [
        "%%bash\n",
        "\n",
        "bq ls"
      ]
    },
    {
      "cell_type": "code",
      "execution_count": null,
      "metadata": {},
      "outputs": [],
      "source": [
        "%%bash\n",
        "\n",
        "bq --location=US --mk dataset $project:babyweight\n",
        "\n",
        "bq ls"
      ]
    },
    {
      "cell_type": "code",
      "execution_count": null,
      "metadata": {},
      "outputs": [],
      "source": [
        "%%bash\n",
        "\n",
        "gsutil ls"
      ]
    },
    {
      "cell_type": "code",
      "execution_count": null,
      "metadata": {},
      "outputs": [],
      "source": [
        "%%bash\n",
        "\n",
        "gsutil mb -l ${Region} gs://${Cloudera}"
      ]
    },
    {
      "cell_type": "code",
      "execution_count": null,
      "metadata": {},
      "outputs": [],
      "source": [
        "%%bigquery\n",
        "CREATE OR REPLACE TABLE\n",
        "  babyweight.babyweight_data AS\n",
        "SELECT"
      ]
    },
    {
      "cell_type": "code",
      "execution_count": null,
      "metadata": {},
      "outputs": [],
      "source": [
        "%%bigquery\n",
        "CREATE OR REPLACE TABLE\n",
        "  babyweight.babyweight_agumented_data AS\n",
        "SELECT"
      ]
    },
    {
      "cell_type": "code",
      "execution_count": null,
      "metadata": {},
      "outputs": [],
      "source": [
        "%%bigquery\n",
        "CREATE OR REPLACE TABLE\n",
        "  babyweight.babyweight_data_train AS\n",
        "SELECT"
      ]
    },
    {
      "cell_type": "code",
      "execution_count": null,
      "metadata": {},
      "outputs": [],
      "source": [
        "%%bigquery\n",
        "CREATE OR REPLACE TABLE\n",
        "  babyweight.babyweight_data_test AS\n",
        "SELECT"
      ]
    },
    {
      "cell_type": "code",
      "execution_count": null,
      "metadata": {},
      "outputs": [],
      "source": [
        "%%bash\n",
        "\n",
        "gsutil ls gs://${Cloudera}/babyweight/data/*.csv"
      ]
    },
    {
      "cell_type": "code",
      "execution_count": null,
      "metadata": {},
      "outputs": [],
      "source": [
        "%%bash\n",
        "\n",
        "gsutil ls gs://${BUCKET}/babyweight/data/*000000000000.csv"
      ]
    },
    {
      "cell_type": "code",
      "execution_count": null,
      "metadata": {},
      "outputs": [],
      "source": [
        "%%bash\n",
        "\n",
        "gcloud ai-platform jobs submit training ${aiplatjob} \\\n",
        "  --region=${region}"
      ]
    },
    {
      "cell_type": "code",
      "execution_count": null,
      "metadata": {},
      "outputs": [],
      "source": [
        "%%bash\n",
        "\n",
        "gsutil ls gs://${BUCKET}/babyweight/trained_model"
      ]
    }
  ],
  "metadata": {
    "colab": {
      "provenance": []
    },
    "kernelspec": {
      "display_name": "Python 3",
      "name": "python3"
    },
    "language_info": {
      "name": "python"
    }
  },
  "nbformat": 4,
  "nbformat_minor": 0
}
