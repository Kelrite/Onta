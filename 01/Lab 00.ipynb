{
  "nbformat": 4,
  "nbformat_minor": 0,
  "metadata": {
    "colab": {
      "provenance": []
    },
    "kernelspec": {
      "name": "python3",
      "display_name": "Python 3"
    },
    "language_info": {
      "name": "python"
    }
  },
  "cells": [
    {
      "cell_type": "code",
      "execution_count": null,
      "metadata": {
        "id": "M4I3sbj3tf5m"
      },
      "outputs": [],
      "source": [
        "!pip install google-cloud-bigquery --quiet\n",
        "\n",
        "!pip install google-cloud-aiplatform --quiet"
      ]
    },
    {
      "cell_type": "code",
      "source": [
        "import os\n",
        "\n",
        "os.environ[\"Project\"] = \"null\"\n",
        "\n",
        "os.environ[\"Region\"] = \"null\""
      ],
      "metadata": {
        "id": "vmMRd0JVtv-P"
      },
      "execution_count": null,
      "outputs": []
    },
    {
      "cell_type": "code",
      "source": [
        "os.environ[\"Cloudera\"] = \"null\"\n",
        "\n",
        "os.environ[\"TensorFlow\"] = \"2.6\"\n",
        "\n",
        "os.environ[\"Python\"] = \"3.7\""
      ],
      "metadata": {
        "id": "jvbN6EsDuBjU"
      },
      "execution_count": null,
      "outputs": []
    },
    {
      "cell_type": "code",
      "source": [
        "%%bash\n",
        "\n",
        "export project=$(gcloud config list project --format \"value(core.project)\")\n",
        "\n",
        "echo \"Your GCP Project : \"$project"
      ],
      "metadata": {
        "id": "hCx9UKBOuW03"
      },
      "execution_count": null,
      "outputs": []
    }
  ]
}