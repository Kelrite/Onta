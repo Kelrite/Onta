{
 "cells": [
  {
   "cell_type": "code",
   "execution_count": null,
   "metadata": {},
   "outputs": [],
   "source": [
    "!pip install tensorflow_data_validation[visualization] --quiet\n",
    "\n",
    "import tensorflow as tf\n",
    "\n",
    "import tensorflow_data_validation as tfdv\n",
    "\n",
    "import warnings; warnings.filterwarnings('ignore')\n",
    "\n",
    "import urllib"
   ]
  }
 ],
 "metadata": {
  "language_info": {
   "name": "python"
  }
 },
 "nbformat": 4,
 "nbformat_minor": 2
}
